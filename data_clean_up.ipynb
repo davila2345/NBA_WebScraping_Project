{
 "cells": [
  {
   "cell_type": "markdown",
   "metadata": {},
   "source": [
    "# Cleaning up and merging NBA data collected\n",
    "To be used after executing scrape.py file\n",
    "## Importing required libraries"
   ]
  },
  {
   "cell_type": "code",
   "execution_count": 17,
   "metadata": {},
   "outputs": [],
   "source": [
    "import pandas as pd\n",
    "import numpy as np\n",
    "from pathlib import Path\n",
    "from string import ascii_lowercase\n",
    "import os\n",
    "from glob import glob"
   ]
  },
  {
   "cell_type": "markdown",
   "metadata": {},
   "source": [
    "## Creating functions to clean and merge data sets\n",
    "#### MUST MAKE SURE YOU ARE IN BASE DIRECTORY WHERE ALL PROJECT FILES AND SUB-DIRECTORIES ARE"
   ]
  },
  {
   "cell_type": "code",
   "execution_count": 141,
   "metadata": {},
   "outputs": [
    {
     "data": {
      "text/plain": [
       "'C:\\\\Users\\\\davil\\\\Desktop\\\\test'"
      ]
     },
     "execution_count": 141,
     "metadata": {},
     "output_type": "execute_result"
    }
   ],
   "source": [
    "#os.getcwd()\n",
    "back_dir = os.path.normpath(os.getcwd() + os.sep + os.pardir)\n",
    "os.chdir(back_dir)\n",
    "os.getcwd()"
   ]
  },
  {
   "cell_type": "markdown",
   "metadata": {},
   "source": [
    "### Function to merge csv files separated by season\n",
    "___"
   ]
  },
  {
   "cell_type": "code",
   "execution_count": 143,
   "metadata": {},
   "outputs": [],
   "source": [
    "def merge_csv_by_season_player(folder_from: object,\n",
    "                        csv_name: object, \n",
    "                        folder_write_to: object) -> object:\n",
    "    #go to folder where csv files to be merged are\n",
    "    os.chdir(folder_from)\n",
    "    #create file list variable that will have all merged file data\n",
    "    file_list = list()\n",
    "    \n",
    "    #looping through files in directory to prep data than append to master dataframe\n",
    "    for file in os.listdir():\n",
    "        if file.endswith('.csv'):\n",
    "            df_2w = pd.read_csv(file, encoding=\"utf-8\") \n",
    "            df_2w['Season'] = file[:4]\n",
    "            #split Player column into Player_Name and Player_ID\n",
    "            new = df_2w[\"Player\"].str.split(\"\\\\\", expand = True)\n",
    "            df_2w[\"Player_Name\"]= new[0]\n",
    "            df_2w[\"Player_ID\"]= new[1]\n",
    "            df_2w.drop(columns = [\"Player\"], inplace = True)\n",
    "            # move the column to head of list using index, pop and insert\n",
    "            cols = list(df_2w)\n",
    "            cols.insert(0, cols.pop(cols.index('Player_Name')))\n",
    "            cols.insert(1, cols.pop(cols.index('Player_ID')))\n",
    "            cols\n",
    "            # use loc to reorder\n",
    "            df_2w = df_2w.loc[:, cols]\n",
    "            #fill NAs\n",
    "            df_2w.fillna(0, inplace=True)           \n",
    "            #append to master dataframe to be written to csv                               \n",
    "            file_list.append(df_2w)\n",
    "    #merge all data in file_list, then create new file to write merged data to        \n",
    "    merged_files = pd.concat(file_list, axis=0, ignore_index=True)\n",
    "    #change to directory we are writing csv to\n",
    "    back_dir = os.path.normpath(os.getcwd() + os.sep + os.pardir)\n",
    "    os.chdir(back_dir)\n",
    "    os.chdir(folder_write_to)\n",
    "    #write csv\n",
    "    merged_files.to_csv(\"all_seasons_\" + csv_name)\n",
    "    #go back to original directory\n",
    "    os.chdir(back_dir)"
   ]
  },
  {
   "cell_type": "markdown",
   "metadata": {},
   "source": [
    "### Using merge function for regular season and playoffs stats"
   ]
  },
  {
   "cell_type": "markdown",
   "metadata": {},
   "source": [
    "##### Regular Season Stats"
   ]
  },
  {
   "cell_type": "code",
   "execution_count": 110,
   "metadata": {},
   "outputs": [],
   "source": [
    "#Reg Season - Per Game Stats by Players\n",
    "merge_csv_by_season_player(folder_from = 'season_stats_pergame',\n",
    "                           csv_name = 'per_game_stats.csv',\n",
    "                           folder_write_to = 'clean_reg_season')\n",
    "#Reg Season - Total Stats by Players\n",
    "merge_csv_by_season_player(folder_from = 'season_stats_totals',\n",
    "                           csv_name = 'totals_stats.csv',\n",
    "                           folder_write_to = 'clean_reg_season')\n",
    "#Reg Season - Advanced Stats by Players\n",
    "merge_csv_by_season_player(folder_from = 'season_stats_advanced',\n",
    "                           csv_name = 'advanced_stats.csv',\n",
    "                           folder_write_to = 'clean_reg_season')\n",
    "#Reg Season - MVP Shares\n",
    "merge_csv_by_season_player(folder_from = 'award_stats',\n",
    "                           csv_name = 'nba_mvp.csv',\n",
    "                           folder_write_to = 'clean_reg_season')\n"
   ]
  },
  {
   "cell_type": "markdown",
   "metadata": {},
   "source": [
    "##### Playoffs Stats"
   ]
  },
  {
   "cell_type": "code",
   "execution_count": 111,
   "metadata": {},
   "outputs": [],
   "source": [
    "#Playoffs - Per Game Stats by Players\n",
    "merge_csv_by_season_player(folder_from = 'playoffs_stats_pergame',\n",
    "                           csv_name = 'per_game_stats.csv',\n",
    "                           folder_write_to = 'clean_playoffs')\n",
    "#Playoffs - Total Stats by Players\n",
    "merge_csv_by_season_player(folder_from = 'playoffs_stats_totals',\n",
    "                           csv_name = 'totals_stats.csv',\n",
    "                           folder_write_to = 'clean_playoffs')\n",
    "#Playoffs - Advanced Stats by Players\n",
    "merge_csv_by_season_player(folder_from = 'playoffs_stats_advanced',\n",
    "                           csv_name = 'advanced_stats.csv',\n",
    "                           folder_write_to = 'clean_playoffs')"
   ]
  },
  {
   "cell_type": "markdown",
   "metadata": {},
   "source": [
    "### Function to clean and merge player bio csv files separated by letter\n",
    "___"
   ]
  },
  {
   "cell_type": "code",
   "execution_count": 146,
   "metadata": {},
   "outputs": [],
   "source": [
    "def merge_csv_bios(folder_from: object,\n",
    "                        csv_name: object, \n",
    "                        folder_write_to: object) -> object:\n",
    "    #go to folder where csv files to be merged are\n",
    "    os.chdir(folder_from)\n",
    "    #create file list variable that will have all merged file data\n",
    "    file_list = list()\n",
    "    \n",
    "    #looping through files in directory to prep data than append to master dataframe\n",
    "    for file in os.listdir():\n",
    "        if file.endswith('.csv'):\n",
    "            df_2w = pd.read_csv(file, encoding=\"utf-8\") \n",
    "            #split Player column into Player_Name and Player_ID\n",
    "            new = df_2w[\"Player\"].str.split(\"\\\\\", expand = True)\n",
    "            df_2w[\"Player_Name\"]= new[0]\n",
    "            df_2w[\"Player_ID\"]= new[1]\n",
    "            df_2w.drop(columns = [\"Player\"], inplace = True)\n",
    "            # move the column to head of list using index, pop and insert\n",
    "            cols = list(df_2w)\n",
    "            cols.insert(0, cols.pop(cols.index('Player_Name')))\n",
    "            cols.insert(1, cols.pop(cols.index('Player_ID')))\n",
    "            # use loc to reorder\n",
    "            df_2w = df_2w.loc[:, cols]\n",
    "            #fill NAs\n",
    "            df_2w['Colleges'].fillna('None', inplace=True)\n",
    "            #convert height into inches and cm\n",
    "            new_ht = df_2w['Ht'].str.split(\"-\", expand = True)\n",
    "            df_2w[\"Feet\"]= new_ht[0]\n",
    "            df_2w[\"Inches\"]= new_ht[1]\n",
    "            df_2w[\"Feet\"] = pd.to_numeric(df_2w[\"Feet\"])\n",
    "            df_2w[\"Inches\"]= pd.to_numeric(df_2w[\"Inches\"])\n",
    "            df_2w[\"Ht_Inches\"] = (df_2w[\"Feet\"]*12) + df_2w[\"Inches\"]\n",
    "            df_2w[\"Ht_cm\"] = df_2w[\"Ht_Inches\"]*2.54\n",
    "            df_2w[\"Ht_m\"] = df_2w[\"Ht_cm\"]*.01\n",
    "            df_2w[\"Ht_cm\"] = df_2w[\"Ht_cm\"].round(0)\n",
    "            df_2w[\"Ht_m\"] = df_2w[\"Ht_m\"].round(2)\n",
    "            #append to master dataframe to be written to csv                               \n",
    "            file_list.append(df_2w)\n",
    "    #merge all data in file_list, then create new file to write merged data to        \n",
    "    merged_files = pd.concat(file_list, axis=0, ignore_index=True)\n",
    "    #change to directory we are writing csv to\n",
    "    back_dir = os.path.normpath(os.getcwd() + os.sep + os.pardir)\n",
    "    os.chdir(back_dir)\n",
    "    os.chdir(folder_write_to)\n",
    "    #write csv\n",
    "    merged_files.to_csv(\"all_\" + csv_name)\n",
    "    #go back to original directory\n",
    "    os.chdir(back_dir)"
   ]
  },
  {
   "cell_type": "markdown",
   "metadata": {},
   "source": [
    "### Using merge function for player bios"
   ]
  },
  {
   "cell_type": "code",
   "execution_count": 147,
   "metadata": {},
   "outputs": [],
   "source": [
    "# using function for player bios\n",
    "merge_csv_bios(folder_from = 'players_bios',\n",
    "                           csv_name = 'players_bios.csv',\n",
    "                           folder_write_to = 'clean_bios')"
   ]
  }
 ],
 "metadata": {
  "kernelspec": {
   "display_name": "Python 3",
   "language": "python",
   "name": "python3"
  },
  "language_info": {
   "codemirror_mode": {
    "name": "ipython",
    "version": 3
   },
   "file_extension": ".py",
   "mimetype": "text/x-python",
   "name": "python",
   "nbconvert_exporter": "python",
   "pygments_lexer": "ipython3",
   "version": "3.7.3"
  }
 },
 "nbformat": 4,
 "nbformat_minor": 2
}
